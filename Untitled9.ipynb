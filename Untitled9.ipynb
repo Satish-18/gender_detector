{
  "nbformat": 4,
  "nbformat_minor": 0,
  "metadata": {
    "colab": {
      "name": "Untitled9.ipynb",
      "provenance": [],
      "collapsed_sections": []
    },
    "kernelspec": {
      "name": "python3",
      "display_name": "Python 3"
    },
    "language_info": {
      "name": "python"
    },
    "accelerator": "GPU"
  },
  "cells": [
    {
      "cell_type": "code",
      "metadata": {
        "id": "QP5iLi6eh3ge"
      },
      "source": [
        "from google.colab import drive\n"
      ],
      "execution_count": null,
      "outputs": []
    },
    {
      "cell_type": "code",
      "metadata": {
        "colab": {
          "base_uri": "https://localhost:8080/"
        },
        "id": "LT70LhiIiuZ6",
        "outputId": "ff963d59-4845-4bb0-c3bc-fa6ac6d9351b"
      },
      "source": [
        "drive.mount('/content/drive')"
      ],
      "execution_count": null,
      "outputs": [
        {
          "output_type": "stream",
          "text": [
            "Mounted at /content/drive\n"
          ],
          "name": "stdout"
        }
      ]
    },
    {
      "cell_type": "markdown",
      "metadata": {
        "id": "vgcWpvXQmISB"
      },
      "source": [
        "**imports**"
      ]
    },
    {
      "cell_type": "code",
      "metadata": {
        "id": "-pLAX52CmPXE"
      },
      "source": [
        "import numpy as np\n",
        "import pandas as pd\n",
        "import matplotlib.pyplot as plt\n",
        "import cv2\n",
        "from glob import glob\n",
        "from PIL import Image\n",
        "import pickle\n",
        "import sklearn\n",
        "from sklearn.model_selection import train_test_split,GridSearchCV\n",
        "from sklearn.svm import SVC\n",
        "from sklearn import metrics\n",
        "from sklearn.decomposition import PCA\n",
        "%matplotlib inline\n",
        "#print(sklearn.__version__)"
      ],
      "execution_count": null,
      "outputs": []
    },
    {
      "cell_type": "markdown",
      "metadata": {
        "id": "iEcNQLEje9uS"
      },
      "source": [
        "**Loading all the analysis valus**\n"
      ]
    },
    {
      "cell_type": "code",
      "metadata": {
        "id": "ICPMFiK0fGmC"
      },
      "source": [
        "df = pickle.load(open('dataframe_images_100_100.pickle','rb'))\n",
        "df.head()"
      ],
      "execution_count": null,
      "outputs": []
    },
    {
      "cell_type": "code",
      "metadata": {
        "id": "3IWN0DqngIG3"
      },
      "source": [
        "#checking for missing values\n",
        "df.isnull().sum()"
      ],
      "execution_count": null,
      "outputs": []
    },
    {
      "cell_type": "markdown",
      "metadata": {
        "id": "B7OQawPdkGye"
      },
      "source": [
        "**#Data preprocessing\n",
        "#1. Removing the missing values\n",
        "#2. Data normalization(min max scaling)**"
      ]
    },
    {
      "cell_type": "code",
      "metadata": {
        "id": "ollhp-bMkKXo"
      },
      "source": [
        "#Remocing the missing values\n",
        "df.dropna(axis=0,inplace=True)"
      ],
      "execution_count": null,
      "outputs": []
    },
    {
      "cell_type": "code",
      "metadata": {
        "id": "l8IG48Q8kS8i"
      },
      "source": [
        "df.isnull().sum()"
      ],
      "execution_count": null,
      "outputs": []
    },
    {
      "cell_type": "code",
      "metadata": {
        "id": "2520ZOVRknlH"
      },
      "source": [
        "X = df.iloc[:,1:].values # independent features\n",
        "y = df.iloc[:,0].values # dependent\n",
        "X.shape"
      ],
      "execution_count": null,
      "outputs": []
    },
    {
      "cell_type": "markdown",
      "metadata": {
        "id": "IsyOLbnxlFML"
      },
      "source": [
        "min max scaling\n",
        "xnorm = x-minValue/maxValue-minValue"
      ]
    },
    {
      "cell_type": "code",
      "metadata": {
        "id": "6PxKq6qilw17"
      },
      "source": [
        "float(X.min()),float(X.max())"
      ],
      "execution_count": null,
      "outputs": []
    },
    {
      "cell_type": "code",
      "metadata": {
        "id": "_7okmvkhmAEj"
      },
      "source": [
        "Xnorm = X / float(X.max())\n",
        "Xnorm "
      ],
      "execution_count": null,
      "outputs": []
    },
    {
      "cell_type": "code",
      "metadata": {
        "id": "ccwro0RFmbhB"
      },
      "source": [
        "Xnorm.shape\n"
      ],
      "execution_count": null,
      "outputs": []
    },
    {
      "cell_type": "code",
      "metadata": {
        "id": "3N01DAATmqId"
      },
      "source": [
        "# female = 1, male = 0\n",
        "y_norm = np.where(y=='female',1,0)\n",
        "\n",
        "# saving x and y\n",
        "np.savez('/content/drive/MyDrive/data_10000_norm',Xnorm,y_norm)"
      ],
      "execution_count": null,
      "outputs": []
    },
    {
      "cell_type": "code",
      "metadata": {
        "id": "Jb7Yunh_n0nv"
      },
      "source": [
        ""
      ],
      "execution_count": null,
      "outputs": []
    }
  ]
}