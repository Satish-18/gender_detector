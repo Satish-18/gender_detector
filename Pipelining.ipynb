{
  "nbformat": 4,
  "nbformat_minor": 0,
  "metadata": {
    "accelerator": "GPU",
    "colab": {
      "name": "Pipelining.ipynb",
      "provenance": [],
      "collapsed_sections": []
    },
    "kernelspec": {
      "display_name": "Python 3",
      "name": "python3"
    },
    "language_info": {
      "name": "python"
    }
  },
  "cells": [
    {
      "cell_type": "code",
      "metadata": {
        "id": "9-K8jPxxXmso"
      },
      "source": [
        "from google.colab import drive"
      ],
      "execution_count": null,
      "outputs": []
    },
    {
      "cell_type": "code",
      "metadata": {
        "id": "ZujBUL_yXoVr"
      },
      "source": [
        "drive.mount('/content/drive')"
      ],
      "execution_count": null,
      "outputs": []
    },
    {
      "cell_type": "code",
      "metadata": {
        "colab": {
          "base_uri": "https://localhost:8080/"
        },
        "id": "4iEfSZACin5t",
        "outputId": "68fa1696-5346-4a25-f83a-79153384a5e8"
      },
      "source": [
        "import sklearn\n",
        "print(sklearn.__version__)"
      ],
      "execution_count": null,
      "outputs": [
        {
          "output_type": "stream",
          "text": [
            "0.22.2.post1\n"
          ],
          "name": "stdout"
        }
      ]
    },
    {
      "cell_type": "code",
      "metadata": {
        "id": "IANE6tI4Xoqu"
      },
      "source": [
        "import numpy as np\n",
        "import pandas as pd\n",
        "import matplotlib.pyplot as plt\n",
        "import sklearn\n",
        "import pickle\n",
        "import cv2\n",
        "%matplotlib inline\n",
        "from google.colab.patches import cv2_imshow"
      ],
      "execution_count": null,
      "outputs": []
    },
    {
      "cell_type": "code",
      "metadata": {
        "colab": {
          "base_uri": "https://localhost:8080/"
        },
        "id": "TxZ6a3B7Xo27",
        "outputId": "d7f0e0d6-214c-48eb-f529-aa3a746ab6c0"
      },
      "source": [
        "#Load all the models\n",
        "haar = cv2.CascadeClassifier('/content/haarcascade_frontalface_default.xml')\n",
        "mean = pickle.load(open('/content/drive/MyDrive/mean_preprocess.pickle','rb'))\n",
        "model_svm = pickle.load(open('/content/drive/MyDrive/model_svm.pickle','rb'))\n",
        "model_pca = pickle.load(open('/content/drive/MyDrive/pca_50.pickle','rb'))\n",
        "print('All the files are loaded sucessfully')"
      ],
      "execution_count": null,
      "outputs": [
        {
          "output_type": "stream",
          "text": [
            "All the files are loaded sucessfully\n"
          ],
          "name": "stdout"
        }
      ]
    },
    {
      "cell_type": "code",
      "metadata": {
        "colab": {
          "base_uri": "https://localhost:8080/"
        },
        "id": "7sg_tZWaaf-C",
        "outputId": "f2bed50f-c93b-4513-f9d1-ef6a54825458"
      },
      "source": [
        "mean.shape"
      ],
      "execution_count": null,
      "outputs": [
        {
          "output_type": "execute_result",
          "data": {
            "text/plain": [
              "(10000,)"
            ]
          },
          "metadata": {
            "tags": []
          },
          "execution_count": 15
        }
      ]
    },
    {
      "cell_type": "code",
      "metadata": {
        "id": "9E9opmj7bNNq"
      },
      "source": [
        "gender_pre = ['Male', 'Female']\n",
        "font = cv2.FONT_HERSHEY_SIMPLEX"
      ],
      "execution_count": null,
      "outputs": []
    },
    {
      "cell_type": "code",
      "metadata": {
        "id": "05_uxltuXpKc"
      },
      "source": [
        "#_model\n",
        "def pipeline_model(img,color='rgb'):\n",
        "    if color == 'bgr':\n",
        "        gray = cv2.cvtColor(img, cv2.COLOR_BGR2GRAY)\n",
        "    else:\n",
        "        gray = cv2.cvtColor(img, cv2.COLOR_RGB2GRAY)\n",
        "\n",
        "    # crop face using harr cascade classifier\n",
        "    faces = haar.detectMultiScale(gray,1.5,3)\n",
        "    for x,y,w,h in faces:\n",
        "\n",
        "        #Drawing rectangle\n",
        "        cv2.rectangle(img,(x,y),(x+w,y+h),(0,255,0),2)\n",
        "            #Crop image\n",
        "        roi = gray[y:y+h,x:x+w]\n",
        "\n",
        "        #step-4 Normalization (0-1)\n",
        "        roi = roi / 255.0\n",
        "\n",
        "        #step-5 resize image(100,100)\n",
        "        if roi.shape[1] > 100:\n",
        "            roi_resize = cv2.resize(roi,(100,100),cv2.INTER_AREA) #Shrink\n",
        "        else:\n",
        "            roi_resize = cv2.resize(roi, (100,100), cv2.INTER_CUBIC) #Enlarge\n",
        "\n",
        "        #step-6 Flattening(1*10000)\n",
        "        roi_reshape = roi_resize.reshape(1,10000) # 1*10,000\n",
        "\n",
        "        #step-7 subtract with mean\n",
        "        roi_mean = roi_reshape - mean\n",
        "\n",
        "        #step-8 get eigen image\n",
        "        eigen_image = model_pca.transform(roi_mean)\n",
        "        #step-9 apply ml algorithm (SVM)\n",
        "        results = model_svm.predict_proba(eigen_image)[0]\n",
        "\n",
        "        #step-10\n",
        "        predict = results.argmax() # 0 or 1\n",
        "        score = results[predict]\n",
        "\n",
        "        #step-11\n",
        "        text = \"%s : %0.2f\"%(gender_pre[predict],score)\n",
        "        cv2.putText(img,text,(x,y),font,1,(0,255,0),2)\n",
        "    return img\n",
        "\n"
      ],
      "execution_count": null,
      "outputs": []
    },
    {
      "cell_type": "code",
      "metadata": {
        "id": "1vn0rb11mwz7"
      },
      "source": [
        "from PIL import Image"
      ],
      "execution_count": null,
      "outputs": []
    },
    {
      "cell_type": "code",
      "metadata": {
        "colab": {
          "base_uri": "https://localhost:8080/",
          "height": 285
        },
        "id": "R0ek6cebmBKU",
        "outputId": "26968fe2-3c8b-4729-ac80-5298372b3203"
      },
      "source": [
        "test_data_path = '/content/male.jpg'\n",
        "color = 'bgr'\n",
        "# read image\n",
        "img = Image.open(test_data_path) #rgb\n",
        "# convert into array\n",
        "img = np.array(img)\n",
        "# pass to the pipeline model\n",
        "img = pipeline_model(img)\n",
        "plt.imshow(img)"
      ],
      "execution_count": null,
      "outputs": [
        {
          "output_type": "execute_result",
          "data": {
            "text/plain": [
              "<matplotlib.image.AxesImage at 0x7fee932f4650>"
            ]
          },
          "metadata": {
            "tags": []
          },
          "execution_count": 44
        },
        {
          "output_type": "display_data",
          "data": {
            "image/png": "[encoded data removed]",
            "text/plain": [
              "<Figure size 432x288 with 1 Axes>"
            ]
          },
          "metadata": {
            "tags": [],
            "needs_background": "light"
          }
        }
      ]
    },
    {
      "cell_type": "code",
      "metadata": {
        "id": "yj2cm4InrKVj"
      },
      "source": [
        ""
      ],
      "execution_count": null,
      "outputs": []
    },
    {
      "cell_type": "code",
      "metadata": {
        "id": "fWyPUiVQrKX_"
      },
      "source": [
        ""
      ],
      "execution_count": null,
      "outputs": []
    },
    {
      "cell_type": "code",
      "metadata": {
        "id": "2yYNy86frKca"
      },
      "source": [
        ""
      ],
      "execution_count": null,
      "outputs": []
    },
    {
      "cell_type": "code",
      "metadata": {
        "id": "8aolZBERrKia"
      },
      "source": [
        ""
      ],
      "execution_count": null,
      "outputs": []
    },
    {
      "cell_type": "code",
      "metadata": {
        "id": "GyfzsJnKrKlI"
      },
      "source": [
        ""
      ],
      "execution_count": null,
      "outputs": []
    },
    {
      "cell_type": "code",
      "metadata": {
        "id": "j40k6h0XrKnn"
      },
      "source": [
        ""
      ],
      "execution_count": null,
      "outputs": []
    },
    {
      "cell_type": "code",
      "metadata": {
        "id": "oc31BQWfrKqJ"
      },
      "source": [
        ""
      ],
      "execution_count": null,
      "outputs": []
    },
    {
      "cell_type": "code",
      "metadata": {
        "id": "W3XPldXvrKs2"
      },
      "source": [
        ""
      ],
      "execution_count": null,
      "outputs": []
    },
    {
      "cell_type": "code",
      "metadata": {
        "id": "EogVwNxGrKuX"
      },
      "source": [
        ""
      ],
      "execution_count": null,
      "outputs": []
    },
    {
      "cell_type": "code",
      "metadata": {
        "id": "2-vjVUz-rKwl"
      },
      "source": [
        ""
      ],
      "execution_count": null,
      "outputs": []
    },
    {
      "cell_type": "code",
      "metadata": {
        "id": "YAXmkPb9rKyv"
      },
      "source": [
        ""
      ],
      "execution_count": null,
      "outputs": []
    },
    {
      "cell_type": "code",
      "metadata": {
        "id": "MmDznPMSrK0g"
      },
      "source": [
        ""
      ],
      "execution_count": null,
      "outputs": []
    },
    {
      "cell_type": "code",
      "metadata": {
        "id": "XRgrCxATrK2c"
      },
      "source": [
        ""
      ],
      "execution_count": null,
      "outputs": []
    },
    {
      "cell_type": "code",
      "metadata": {
        "id": "TEB-KX-srK4o"
      },
      "source": [
        ""
      ],
      "execution_count": null,
      "outputs": []
    },
    {
      "cell_type": "code",
      "metadata": {
        "id": "tYHDPAhxrK7K"
      },
      "source": [
        ""
      ],
      "execution_count": null,
      "outputs": []
    },
    {
      "cell_type": "code",
      "metadata": {
        "id": "4dTGny4vrK9h"
      },
      "source": [
        ""
      ],
      "execution_count": null,
      "outputs": []
    },
    {
      "cell_type": "code",
      "metadata": {
        "id": "wmWQZyH_rK_x"
      },
      "source": [
        ""
      ],
      "execution_count": null,
      "outputs": []
    },
    {
      "cell_type": "markdown",
      "metadata": {
        "id": "Uqw4KqVrnaBp"
      },
      "source": [
        "**Apply pipeline model to vedio**"
      ]
    },
    {
      "cell_type": "code",
      "metadata": {
        "id": "QQTgUlq-rJRa"
      },
      "source": [
        ""
      ],
      "execution_count": null,
      "outputs": []
    },
    {
      "cell_type": "code",
      "metadata": {
        "id": "T-sCgeLNrJXR"
      },
      "source": [
        ""
      ],
      "execution_count": null,
      "outputs": []
    },
    {
      "cell_type": "code",
      "metadata": {
        "id": "62ferb09rJah"
      },
      "source": [
        ""
      ],
      "execution_count": null,
      "outputs": []
    },
    {
      "cell_type": "code",
      "metadata": {
        "id": "8PFeRzHZrJdQ"
      },
      "source": [
        ""
      ],
      "execution_count": null,
      "outputs": []
    },
    {
      "cell_type": "code",
      "metadata": {
        "id": "_r-3KPzYrJfn"
      },
      "source": [
        ""
      ],
      "execution_count": null,
      "outputs": []
    },
    {
      "cell_type": "code",
      "metadata": {
        "id": "uklQTqhkrJip"
      },
      "source": [
        ""
      ],
      "execution_count": null,
      "outputs": []
    },
    {
      "cell_type": "code",
      "metadata": {
        "id": "lAS53FA5rJlN"
      },
      "source": [
        ""
      ],
      "execution_count": null,
      "outputs": []
    },
    {
      "cell_type": "code",
      "metadata": {
        "id": "9YPuzYAZrJoF"
      },
      "source": [
        ""
      ],
      "execution_count": null,
      "outputs": []
    },
    {
      "cell_type": "code",
      "metadata": {
        "id": "hL9V5u9urJrk"
      },
      "source": [
        ""
      ],
      "execution_count": null,
      "outputs": []
    },
    {
      "cell_type": "code",
      "metadata": {
        "id": "rHW55vVbrJun"
      },
      "source": [
        ""
      ],
      "execution_count": null,
      "outputs": []
    },
    {
      "cell_type": "code",
      "metadata": {
        "colab": {
          "background_save": true
        },
        "id": "URfT1WY5nfvc"
      },
      "source": [
        "#cap = cv2.VideoCapture('video.mp4')\n",
        "\n",
        "while True:\n",
        "\tret,frame = cap.read() #bgr\n",
        "\n",
        "\tif ret == False:\n",
        "\t\tbreak\n",
        "\n",
        "#\tframe = pipeline_model(frame,color='bgr')\n",
        "\n",
        "\tcv2_imshow(frame)\n",
        "\tif cv2.waitKey(10) == ord('s'): #Press s to exit --esc key==27\n",
        "\t\tbreak\n",
        "cv2.destroyAllWindows()\n",
        "cap.release()"
      ],
      "execution_count": null,
      "outputs": []
    },
    {
      "cell_type": "code",
      "metadata": {
        "id": "W7-4_me5nXzO"
      },
      "source": [
        ""
      ],
      "execution_count": null,
      "outputs": []
    }
  ]
}