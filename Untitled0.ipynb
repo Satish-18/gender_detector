{
  "nbformat": 4,
  "nbformat_minor": 0,
  "metadata": {
    "colab": {
      "name": "Untitled0.ipynb",
      "provenance": [],
      "collapsed_sections": []
    },
    "kernelspec": {
      "name": "python3",
      "display_name": "Python 3"
    },
    "language_info": {
      "name": "python"
    },
    "accelerator": "GPU"
  },
  "cells": [
    {
      "cell_type": "code",
      "metadata": {
        "id": "jf4aY0BF2Al5"
      },
      "source": [
        "from google.colab import drive"
      ],
      "execution_count": null,
      "outputs": []
    },
    {
      "cell_type": "code",
      "metadata": {
        "colab": {
          "base_uri": "https://localhost:8080/"
        },
        "id": "RfFb-4nb2BUf",
        "outputId": "71fbbc89-1b52-4037-a9ca-ffdc26a8ef53"
      },
      "source": [
        "drive.mount('/content/drive')"
      ],
      "execution_count": null,
      "outputs": [
        {
          "output_type": "stream",
          "text": [
            "Mounted at /content/drive\n"
          ],
          "name": "stdout"
        }
      ]
    },
    {
      "cell_type": "code",
      "metadata": {
        "id": "oFIw4SLk2Bk-"
      },
      "source": [
        "import numpy as np\n",
        "import warnings\n",
        "warnings.filterwarnings('ignore')\n",
        "import pandas as pd\n",
        "import matplotlib.pyplot as plt\n",
        "from PIL import Image\n",
        "from glob import glob \n",
        "from sklearn.decomposition import PCA\n",
        "%matplotlib inline"
      ],
      "execution_count": null,
      "outputs": []
    },
    {
      "cell_type": "code",
      "metadata": {
        "id": "7vU1eKPQ25eO"
      },
      "source": [
        "#Load the data\n",
        "data = np.load('/content/drive/MyDrive/data_pca_50_y_mean.pickle.npz')"
      ],
      "execution_count": null,
      "outputs": []
    },
    {
      "cell_type": "code",
      "metadata": {
        "colab": {
          "base_uri": "https://localhost:8080/"
        },
        "id": "2ilDdI854vsL",
        "outputId": "8c124235-f8b5-4ba8-b903-45f0676d71bd"
      },
      "source": [
        "data.files"
      ],
      "execution_count": null,
      "outputs": [
        {
          "output_type": "execute_result",
          "data": {
            "text/plain": [
              "['arr_0', 'arr_1', 'arr_2']"
            ]
          },
          "metadata": {
            "tags": []
          },
          "execution_count": 79
        }
      ]
    },
    {
      "cell_type": "code",
      "metadata": {
        "colab": {
          "base_uri": "https://localhost:8080/"
        },
        "id": "1T9TNewR41s3",
        "outputId": "5721a813-fc4f-4bcf-febe-18417e29789d"
      },
      "source": [
        "x = data['arr_0']\n",
        "y = data['arr_1']\n",
        "mean = data['arr_2']\n",
        "x.shape,y.shape,mean.shape"
      ],
      "execution_count": null,
      "outputs": [
        {
          "output_type": "execute_result",
          "data": {
            "text/plain": [
              "((5465, 50), (5465,), (10000,))"
            ]
          },
          "metadata": {
            "tags": []
          },
          "execution_count": 80
        }
      ]
    },
    {
      "cell_type": "code",
      "metadata": {
        "colab": {
          "base_uri": "https://localhost:8080/"
        },
        "id": "2tEApm105WiE",
        "outputId": "4fab0f7b-fe9b-4f31-db53-9ed6c0501c37"
      },
      "source": [
        "from sklearn.model_selection import train_test_split\n",
        "x_train,x_test,y_train,y_test = train_test_split(x,y,test_size=0.2,stratify=y)\n",
        "x_train.shape,x_test.shape,y_train.shape,y_test.shape"
      ],
      "execution_count": null,
      "outputs": [
        {
          "output_type": "execute_result",
          "data": {
            "text/plain": [
              "((4372, 50), (1093, 50), (4372,), (1093,))"
            ]
          },
          "metadata": {
            "tags": []
          },
          "execution_count": 19
        }
      ]
    },
    {
      "cell_type": "markdown",
      "metadata": {
        "id": "WTvpyC8R6NS0"
      },
      "source": [
        "**Training tne machine learning model**"
      ]
    },
    {
      "cell_type": "code",
      "metadata": {
        "id": "QwABzyJX6Uln"
      },
      "source": [
        "from sklearn.svm import SVC\n"
      ],
      "execution_count": null,
      "outputs": []
    },
    {
      "cell_type": "code",
      "metadata": {
        "id": "U_bCVf1Q6wfq"
      },
      "source": [
        "model = SVC(C=1.0,kernel='rbf',gamma=0.01,probability=True)\n"
      ],
      "execution_count": null,
      "outputs": []
    },
    {
      "cell_type": "code",
      "metadata": {
        "colab": {
          "base_uri": "https://localhost:8080/"
        },
        "id": "vEFQAsJA60Y4",
        "outputId": "5a31b858-0f52-4ed7-b8f5-a3c723e56935"
      },
      "source": [
        "model.fit(x_train,y_train)\n",
        "print('model trained sucessifully')"
      ],
      "execution_count": null,
      "outputs": [
        {
          "output_type": "stream",
          "text": [
            "model trained sucessifully\n"
          ],
          "name": "stdout"
        }
      ]
    },
    {
      "cell_type": "code",
      "metadata": {
        "colab": {
          "base_uri": "https://localhost:8080/"
        },
        "id": "KZBtliJy7FFp",
        "outputId": "61823dd0-b8a2-4736-b0d0-fa8e6b11b510"
      },
      "source": [
        "# score\n",
        "model.score(x_train,y_train)"
      ],
      "execution_count": null,
      "outputs": [
        {
          "output_type": "execute_result",
          "data": {
            "text/plain": [
              "0.8552150045745655"
            ]
          },
          "metadata": {
            "tags": []
          },
          "execution_count": 29
        }
      ]
    },
    {
      "cell_type": "code",
      "metadata": {
        "colab": {
          "base_uri": "https://localhost:8080/"
        },
        "id": "yCu9rJnP7Vou",
        "outputId": "a96737a1-ad9a-49c3-d976-e84f3beb4164"
      },
      "source": [
        "# score\n",
        "model.score(x_test,y_test)"
      ],
      "execution_count": null,
      "outputs": [
        {
          "output_type": "execute_result",
          "data": {
            "text/plain": [
              "0.7996340347666971"
            ]
          },
          "metadata": {
            "tags": []
          },
          "execution_count": 30
        }
      ]
    },
    {
      "cell_type": "markdown",
      "metadata": {
        "id": "eJSE_2R-7hAK"
      },
      "source": [
        "\n",
        "\n",
        "> ##Model evaluation##\n",
        "- confusion matrix\n",
        "- classification report\n",
        "- kappa score\n",
        "- ROC and AUG /prob\n",
        "\n",
        "\n"
      ]
    },
    {
      "cell_type": "code",
      "metadata": {
        "id": "UdS8Mqpg7lbt"
      },
      "source": [
        "from sklearn import metrics\n"
      ],
      "execution_count": null,
      "outputs": []
    },
    {
      "cell_type": "code",
      "metadata": {
        "id": "g5lX3tDg8V-L"
      },
      "source": [
        "y_pred = model.predict(x_test)\n",
        "y_prob = model.predict_proba(x_test) #Probability"
      ],
      "execution_count": null,
      "outputs": []
    },
    {
      "cell_type": "code",
      "metadata": {
        "colab": {
          "base_uri": "https://localhost:8080/"
        },
        "id": "tHJtufA-7wTb",
        "outputId": "4da58d72-89b5-4d25-f1e6-a19b3d45428a"
      },
      "source": [
        "#Confusion matrix\n",
        "cm = metrics.confusion_matrix(y_test,y_pred)\n",
        "cm = np.concatenate((cm,cm.sum(axis=0).reshape(1,-1)),axis=0)\n",
        "cm = np.concatenate((cm,cm.sum(axis=1).reshape(-1,1)),axis=1)\n",
        "cm"
      ],
      "execution_count": null,
      "outputs": [
        {
          "output_type": "execute_result",
          "data": {
            "text/plain": [
              "array([[ 309,  132,  441],\n",
              "       [  87,  565,  652],\n",
              "       [ 396,  697, 1093]])"
            ]
          },
          "metadata": {
            "tags": []
          },
          "execution_count": 35
        }
      ]
    },
    {
      "cell_type": "code",
      "metadata": {
        "colab": {
          "base_uri": "https://localhost:8080/",
          "height": 283
        },
        "id": "0L8Gjnbf8J3J",
        "outputId": "5afd1ee1-cdb9-400e-88ff-c83d1005340f"
      },
      "source": [
        "plt.imshow(cm)\n",
        "for i in range(3):\n",
        "    for j in range(3):\n",
        "        plt.text(i,j,'%d'%cm[i,j])\n",
        "plt.xticks([0,1])\n",
        "plt.xticks([0,1])\n",
        "plt.xlabel('Predicted values')\n",
        "plt.ylabel('True values')\n",
        "plt.show()"
      ],
      "execution_count": null,
      "outputs": [
        {
          "output_type": "display_data",
          "data": {
            "image/png": "[encoded data removed]",
            "text/plain": [
              "<Figure size 432x288 with 1 Axes>"
            ]
          },
          "metadata": {
            "tags": [],
            "needs_background": "light"
          }
        }
      ]
    },
    {
      "cell_type": "code",
      "metadata": {
        "colab": {
          "base_uri": "https://localhost:8080/",
          "height": 204
        },
        "id": "Qf3z07AM9qu9",
        "outputId": "5195f745-5650-4b73-f53d-46da98bfea74"
      },
      "source": [
        "#Classification report\n",
        "cr = metrics.classification_report(y_test,y_pred,target_names=['male','female'],output_dict=True)\n",
        "pd.DataFrame(cr).T"
      ],
      "execution_count": null,
      "outputs": [
        {
          "output_type": "execute_result",
          "data": {
            "text/html": [
              "<div>\n",
              "<style scoped>\n",
              "    .dataframe tbody tr th:only-of-type {\n",
              "        vertical-align: middle;\n",
              "    }\n",
              "\n",
              "    .dataframe tbody tr th {\n",
              "        vertical-align: top;\n",
              "    }\n",
              "\n",
              "    .dataframe thead th {\n",
              "        text-align: right;\n",
              "    }\n",
              "</style>\n",
              "<table border=\"1\" class=\"dataframe\">\n",
              "  <thead>\n",
              "    <tr style=\"text-align: right;\">\n",
              "      <th></th>\n",
              "      <th>precision</th>\n",
              "      <th>recall</th>\n",
              "      <th>f1-score</th>\n",
              "      <th>support</th>\n",
              "    </tr>\n",
              "  </thead>\n",
              "  <tbody>\n",
              "    <tr>\n",
              "      <th>male</th>\n",
              "      <td>0.780303</td>\n",
              "      <td>0.700680</td>\n",
              "      <td>0.738351</td>\n",
              "      <td>441.000000</td>\n",
              "    </tr>\n",
              "    <tr>\n",
              "      <th>female</th>\n",
              "      <td>0.810617</td>\n",
              "      <td>0.866564</td>\n",
              "      <td>0.837658</td>\n",
              "      <td>652.000000</td>\n",
              "    </tr>\n",
              "    <tr>\n",
              "      <th>accuracy</th>\n",
              "      <td>0.799634</td>\n",
              "      <td>0.799634</td>\n",
              "      <td>0.799634</td>\n",
              "      <td>0.799634</td>\n",
              "    </tr>\n",
              "    <tr>\n",
              "      <th>macro avg</th>\n",
              "      <td>0.795460</td>\n",
              "      <td>0.783622</td>\n",
              "      <td>0.788004</td>\n",
              "      <td>1093.000000</td>\n",
              "    </tr>\n",
              "    <tr>\n",
              "      <th>weighted avg</th>\n",
              "      <td>0.798386</td>\n",
              "      <td>0.799634</td>\n",
              "      <td>0.797590</td>\n",
              "      <td>1093.000000</td>\n",
              "    </tr>\n",
              "  </tbody>\n",
              "</table>\n",
              "</div>"
            ],
            "text/plain": [
              "              precision    recall  f1-score      support\n",
              "male           0.780303  0.700680  0.738351   441.000000\n",
              "female         0.810617  0.866564  0.837658   652.000000\n",
              "accuracy       0.799634  0.799634  0.799634     0.799634\n",
              "macro avg      0.795460  0.783622  0.788004  1093.000000\n",
              "weighted avg   0.798386  0.799634  0.797590  1093.000000"
            ]
          },
          "metadata": {
            "tags": []
          },
          "execution_count": 41
        }
      ]
    },
    {
      "cell_type": "code",
      "metadata": {
        "colab": {
          "base_uri": "https://localhost:8080/"
        },
        "id": "oPySYeV1-AEa",
        "outputId": "a98ff1d9-594d-439f-c860-94bdc14fa646"
      },
      "source": [
        "\n",
        "#Kappa score => used for random accuracy\n",
        "metrics.cohen_kappa_score(y_test,y_pred) #Kappa "
      ],
      "execution_count": null,
      "outputs": [
        {
          "output_type": "execute_result",
          "data": {
            "text/plain": [
              "0.6496261606926996"
            ]
          },
          "metadata": {
            "tags": []
          },
          "execution_count": 110
        }
      ]
    },
    {
      "cell_type": "markdown",
      "metadata": {
        "id": "nqoURaiu-O7L"
      },
      "source": [
        "#for kapa score\n",
        "score should be more than 60% for a very good model and less then 40% for very poor model\n",
        "\n",
        "#80% perfect model\n",
        "---\n",
        "\n"
      ]
    },
    {
      "cell_type": "code",
      "metadata": {
        "colab": {
          "base_uri": "https://localhost:8080/",
          "height": 404
        },
        "id": "sFNRb689-mUP",
        "outputId": "4816cbb9-54d0-4df0-db2a-9dcf676641f9"
      },
      "source": [
        "#roc for female\n",
        "fpr,tpr,thresh = metrics.roc_curve(y_test,y_prob[:,1])\n",
        "auc_s = metrics.auc(fpr,tpr) #Area Under the curve\n",
        "\n",
        "plt.figure(figsize=(10,6))\n",
        "plt.plot(fpr,tpr,'-.')\n",
        "plt.plot([0,1],[0,1],'b--')\n",
        "for i in range(0,len(thresh),20):\n",
        "    plt.plot(fpr[i],tpr[i],'^')\n",
        "    plt.text(fpr[i],tpr[i],'%0.2f'%thresh[i])\n",
        "\n",
        "plt.legend(['AUG Score = %0.2f'%auc_s])\n",
        "\n",
        "plt.xlabel('False posative rate')\n",
        "plt.ylabel('True posative rate')\n",
        "plt.title('Receiver Operating Characterstics')\n",
        "plt.show()"
      ],
      "execution_count": null,
      "outputs": [
        {
          "output_type": "display_data",
          "data": {
            "image/png": "[encoded data removed]",
            "text/plain": [
              "<Figure size 720x432 with 1 Axes>"
            ]
          },
          "metadata": {
            "tags": [],
            "needs_background": "light"
          }
        }
      ]
    },
    {
      "cell_type": "markdown",
      "metadata": {
        "id": "-UPCAv9AJ8gN"
      },
      "source": [
        "\n",
        "\n",
        "> #Hyper Patameter Tuining\n",
        "\n"
      ]
    },
    {
      "cell_type": "code",
      "metadata": {
        "id": "Q7WasG-cAex3"
      },
      "source": [
        "model_tune = SVC()"
      ],
      "execution_count": null,
      "outputs": []
    },
    {
      "cell_type": "code",
      "metadata": {
        "id": "c8d1o26cAiZI"
      },
      "source": [
        "from sklearn.model_selection import  GridSearchCV"
      ],
      "execution_count": null,
      "outputs": []
    },
    {
      "cell_type": "code",
      "metadata": {
        "id": "tILzOgnnAldy"
      },
      "source": [
        "param_grid = {\n",
        "              'C':[1,10,20,30,50,100],\n",
        "              'kernel':['rbf','poly'],\n",
        "              'gamma':[0.1,0.05,0.01,0.001,0.002,0.005],\n",
        "              'coef0':[0,1],\n",
        "              }\n"
      ],
      "execution_count": null,
      "outputs": []
    },
    {
      "cell_type": "code",
      "metadata": {
        "id": "yHD5zpi5AuYE"
      },
      "source": [
        "model_grid = GridSearchCV(model_tune,param_grid=param_grid,scoring='accuracy',cv=5,verbose=1)\n"
      ],
      "execution_count": null,
      "outputs": []
    },
    {
      "cell_type": "code",
      "metadata": {
        "colab": {
          "base_uri": "https://localhost:8080/"
        },
        "id": "GLX9MpiKA6yp",
        "outputId": "5f00f7d9-8f55-4d71-91fc-2d9f1aaecebe"
      },
      "source": [
        "model_grid.fit(x,y)"
      ],
      "execution_count": null,
      "outputs": [
        {
          "output_type": "stream",
          "text": [
            "Fitting 5 folds for each of 144 candidates, totalling 720 fits\n"
          ],
          "name": "stdout"
        },
        {
          "output_type": "stream",
          "text": [
            "[Parallel(n_jobs=1)]: Using backend SequentialBackend with 1 concurrent workers.\n",
            "[Parallel(n_jobs=1)]: Done 720 out of 720 | elapsed: 18.9min finished\n"
          ],
          "name": "stderr"
        },
        {
          "output_type": "execute_result",
          "data": {
            "text/plain": [
              "GridSearchCV(cv=5, error_score=nan,\n",
              "             estimator=SVC(C=1.0, break_ties=False, cache_size=200,\n",
              "                           class_weight=None, coef0=0.0,\n",
              "                           decision_function_shape='ovr', degree=3,\n",
              "                           gamma='scale', kernel='rbf', max_iter=-1,\n",
              "                           probability=False, random_state=None, shrinking=True,\n",
              "                           tol=0.001, verbose=False),\n",
              "             iid='deprecated', n_jobs=None,\n",
              "             param_grid={'C': [1, 10, 20, 30, 50, 100], 'coef0': [0, 1],\n",
              "                         'gamma': [0.1, 0.05, 0.01, 0.001, 0.002, 0.005],\n",
              "                         'kernel': ['rbf', 'poly']},\n",
              "             pre_dispatch='2*n_jobs', refit=True, return_train_score=False,\n",
              "             scoring='accuracy', verbose=1)"
            ]
          },
          "metadata": {
            "tags": []
          },
          "execution_count": 98
        }
      ]
    },
    {
      "cell_type": "code",
      "metadata": {
        "colab": {
          "base_uri": "https://localhost:8080/"
        },
        "id": "rs9MXQAnG3jF",
        "outputId": "fd132db4-a2cc-48a9-852f-84d9e3ed9afb"
      },
      "source": [
        "model_grid.best_index_"
      ],
      "execution_count": null,
      "outputs": [
        {
          "output_type": "execute_result",
          "data": {
            "text/plain": [
              "2"
            ]
          },
          "metadata": {
            "tags": []
          },
          "execution_count": 99
        }
      ]
    },
    {
      "cell_type": "code",
      "metadata": {
        "colab": {
          "base_uri": "https://localhost:8080/"
        },
        "id": "30b_6VelHKVO",
        "outputId": "05e71911-43d3-4ea3-955e-367abc3fe529"
      },
      "source": [
        "model_grid.best_params_"
      ],
      "execution_count": null,
      "outputs": [
        {
          "output_type": "execute_result",
          "data": {
            "text/plain": [
              "{'C': 1, 'coef0': 0, 'gamma': 0.05, 'kernel': 'rbf'}"
            ]
          },
          "metadata": {
            "tags": []
          },
          "execution_count": 100
        }
      ]
    },
    {
      "cell_type": "code",
      "metadata": {
        "colab": {
          "base_uri": "https://localhost:8080/"
        },
        "id": "npg7WUnBBVpP",
        "outputId": "810385f9-280d-424e-8d78-85da3f0b66af"
      },
      "source": [
        "\n",
        "model_grid.best_score_"
      ],
      "execution_count": null,
      "outputs": [
        {
          "output_type": "execute_result",
          "data": {
            "text/plain": [
              "0.7849954254345837"
            ]
          },
          "metadata": {
            "tags": []
          },
          "execution_count": 101
        }
      ]
    },
    {
      "cell_type": "code",
      "metadata": {
        "id": "6ptQhZtuBaqS"
      },
      "source": [
        "#training with best param\n",
        "model_best = SVC(C=1,kernel='rbf',gamma=0.05,probability=True)"
      ],
      "execution_count": null,
      "outputs": []
    },
    {
      "cell_type": "code",
      "metadata": {
        "colab": {
          "base_uri": "https://localhost:8080/"
        },
        "id": "ujSMhTTzBemV",
        "outputId": "89d9e31a-bcda-404f-aabc-1a9e5379ebf2"
      },
      "source": [
        "model_best.fit(x_train,y_train)\n",
        "model_best.score(x_test,y_test)"
      ],
      "execution_count": null,
      "outputs": [
        {
          "output_type": "execute_result",
          "data": {
            "text/plain": [
              "0.8362305580969808"
            ]
          },
          "metadata": {
            "tags": []
          },
          "execution_count": 104
        }
      ]
    },
    {
      "cell_type": "code",
      "metadata": {
        "id": "BLyGqqihBhlr"
      },
      "source": [
        "y_pred = model_best.predict(x_test)\n",
        "y_prob = model_best.predict_proba(x_test)\n"
      ],
      "execution_count": null,
      "outputs": []
    },
    {
      "cell_type": "code",
      "metadata": {
        "colab": {
          "base_uri": "https://localhost:8080/",
          "height": 283
        },
        "id": "ySP4PWB_VP1L",
        "outputId": "013175dd-660d-4810-b94f-f79550414722"
      },
      "source": [
        "#Confusion matrix\n",
        "cm = metrics.confusion_matrix(y_test,y_pred)\n",
        "cm = np.concatenate((cm,cm.sum(axis=0).reshape(1,-1)),axis=0)\n",
        "cm = np.concatenate((cm,cm.sum(axis=1).reshape(-1,1)),axis=1)\n",
        "plt.imshow(cm)\n",
        "for i in range(3):\n",
        "    for j in range(3):\n",
        "        plt.text(i,j,'%d'%cm[i,j])\n",
        "plt.xticks([0,1])\n",
        "plt.xticks([0,1])\n",
        "plt.xlabel('Predicted values')\n",
        "plt.ylabel('True values')\n",
        "plt.show()"
      ],
      "execution_count": null,
      "outputs": [
        {
          "output_type": "display_data",
          "data": {
            "image/png": "[encoded data removed]",
            "text/plain": [
              "<Figure size 432x288 with 1 Axes>"
            ]
          },
          "metadata": {
            "tags": [],
            "needs_background": "light"
          }
        }
      ]
    },
    {
      "cell_type": "code",
      "metadata": {
        "colab": {
          "base_uri": "https://localhost:8080/",
          "height": 204
        },
        "id": "JZNahNAvVqCo",
        "outputId": "e09b6fb9-fe4c-469e-8b06-1d13ea968e5c"
      },
      "source": [
        "#Classification report\n",
        "cr = metrics.classification_report(y_test,y_pred,target_names=['male','female'],output_dict=True)\n",
        "pd.DataFrame(cr).T"
      ],
      "execution_count": null,
      "outputs": [
        {
          "output_type": "execute_result",
          "data": {
            "text/html": [
              "<div>\n",
              "<style scoped>\n",
              "    .dataframe tbody tr th:only-of-type {\n",
              "        vertical-align: middle;\n",
              "    }\n",
              "\n",
              "    .dataframe tbody tr th {\n",
              "        vertical-align: top;\n",
              "    }\n",
              "\n",
              "    .dataframe thead th {\n",
              "        text-align: right;\n",
              "    }\n",
              "</style>\n",
              "<table border=\"1\" class=\"dataframe\">\n",
              "  <thead>\n",
              "    <tr style=\"text-align: right;\">\n",
              "      <th></th>\n",
              "      <th>precision</th>\n",
              "      <th>recall</th>\n",
              "      <th>f1-score</th>\n",
              "      <th>support</th>\n",
              "    </tr>\n",
              "  </thead>\n",
              "  <tbody>\n",
              "    <tr>\n",
              "      <th>male</th>\n",
              "      <td>0.861878</td>\n",
              "      <td>0.707483</td>\n",
              "      <td>0.777086</td>\n",
              "      <td>441.000000</td>\n",
              "    </tr>\n",
              "    <tr>\n",
              "      <th>female</th>\n",
              "      <td>0.823529</td>\n",
              "      <td>0.923313</td>\n",
              "      <td>0.870571</td>\n",
              "      <td>652.000000</td>\n",
              "    </tr>\n",
              "    <tr>\n",
              "      <th>accuracy</th>\n",
              "      <td>0.836231</td>\n",
              "      <td>0.836231</td>\n",
              "      <td>0.836231</td>\n",
              "      <td>0.836231</td>\n",
              "    </tr>\n",
              "    <tr>\n",
              "      <th>macro avg</th>\n",
              "      <td>0.842704</td>\n",
              "      <td>0.815398</td>\n",
              "      <td>0.823829</td>\n",
              "      <td>1093.000000</td>\n",
              "    </tr>\n",
              "    <tr>\n",
              "      <th>weighted avg</th>\n",
              "      <td>0.839002</td>\n",
              "      <td>0.836231</td>\n",
              "      <td>0.832852</td>\n",
              "      <td>1093.000000</td>\n",
              "    </tr>\n",
              "  </tbody>\n",
              "</table>\n",
              "</div>"
            ],
            "text/plain": [
              "              precision    recall  f1-score      support\n",
              "male           0.861878  0.707483  0.777086   441.000000\n",
              "female         0.823529  0.923313  0.870571   652.000000\n",
              "accuracy       0.836231  0.836231  0.836231     0.836231\n",
              "macro avg      0.842704  0.815398  0.823829  1093.000000\n",
              "weighted avg   0.839002  0.836231  0.832852  1093.000000"
            ]
          },
          "metadata": {
            "tags": []
          },
          "execution_count": 109
        }
      ]
    },
    {
      "cell_type": "code",
      "metadata": {
        "colab": {
          "base_uri": "https://localhost:8080/"
        },
        "id": "8qnr1Np2WBX1",
        "outputId": "46bb155f-cd7a-4fd8-d34d-229798cbfbcd"
      },
      "source": [
        "#Kappa score => used for random accuracy\n",
        "metrics.cohen_kappa_score(y_test,y_pred) #Kappa "
      ],
      "execution_count": null,
      "outputs": [
        {
          "output_type": "execute_result",
          "data": {
            "text/plain": [
              "0.6496261606926996"
            ]
          },
          "metadata": {
            "tags": []
          },
          "execution_count": 111
        }
      ]
    },
    {
      "cell_type": "code",
      "metadata": {
        "colab": {
          "base_uri": "https://localhost:8080/",
          "height": 404
        },
        "id": "HwcQQLtlWYOV",
        "outputId": "a9776518-a8fb-43af-ca29-c85ac264efc2"
      },
      "source": [
        "#roc for female\n",
        "fpr,tpr,thresh = metrics.roc_curve(y_test,y_prob[:,1])\n",
        "auc_s = metrics.auc(fpr,tpr) #Area Under the curve\n",
        "\n",
        "plt.figure(figsize=(10,6))\n",
        "plt.plot(fpr,tpr,'-.')\n",
        "plt.plot([0,1],[0,1],'b--')\n",
        "for i in range(0,len(thresh),20):\n",
        "    plt.plot(fpr[i],tpr[i],'^')\n",
        "    plt.text(fpr[i],tpr[i],'%0.2f'%thresh[i])\n",
        "\n",
        "plt.legend(['AUG Score = %0.2f'%auc_s])\n",
        "\n",
        "plt.xlabel('False posative rate')\n",
        "plt.ylabel('True posative rate')\n",
        "plt.title('Receiver Operating Characterstics')\n",
        "plt.show()"
      ],
      "execution_count": null,
      "outputs": [
        {
          "output_type": "display_data",
          "data": {
            "image/png": "[encoded data removed]",
            "text/plain": [
              "<Figure size 720x432 with 1 Axes>"
            ]
          },
          "metadata": {
            "tags": [],
            "needs_background": "light"
          }
        }
      ]
    },
    {
      "cell_type": "code",
      "metadata": {
        "id": "tFK-PDSdWget"
      },
      "source": [
        "import pickle"
      ],
      "execution_count": null,
      "outputs": []
    },
    {
      "cell_type": "code",
      "metadata": {
        "id": "R4Y4KGooWj_S"
      },
      "source": [
        "#saving\n",
        "pickle.dump(model_best,open('/content/drive/MyDrive/model_svm.pickle','wb'))\n",
        "pickle.dump(mean,open('/content/drive/MyDrive/mean_preprocess.pickle','wb'))"
      ],
      "execution_count": null,
      "outputs": []
    }
  ]
}